{
 "cells": [
  {
   "cell_type": "markdown",
   "metadata": {},
   "source": [
    "## CE9010: Introduction to Data Science\n",
    "## Semester 2 2017/18\n",
    "## Xavier Bresson\n",
    "## ⚠ Student name: \n",
    "<br>\n",
    "\n",
    "\n",
    "## Laboratory test 1: Supervised regression\n",
    "Instruction: Check the box with the right answer.<br>\n",
    "\n",
    "Grading: You will receive 1 point for each of the questions you answer correctly.<br>\n",
    "$ $\n"
   ]
  },
  {
   "cell_type": "code",
   "execution_count": 1,
   "metadata": {},
   "outputs": [],
   "source": [
    "# Import libraries\n",
    "\n",
    "# math library\n",
    "import numpy as np\n",
    "\n",
    "# visualization library\n",
    "%matplotlib inline\n",
    "from IPython.display import set_matplotlib_formats\n",
    "set_matplotlib_formats('png2x','pdf')\n",
    "import matplotlib.pyplot as plt\n",
    "\n",
    "# machine learning library\n",
    "from sklearn.linear_model import LinearRegression\n",
    "\n",
    "# 3d visualization\n",
    "from mpl_toolkits.mplot3d import axes3d\n",
    "\n",
    "# computational time\n",
    "import time\n"
   ]
  },
  {
   "cell_type": "markdown",
   "metadata": {},
   "source": [
    "# Problem 1: Supervised regression with one feature\n",
    "<hr>\n",
    "The data feature is $x$ and the data label/target is $y$.<br>"
   ]
  },
  {
   "cell_type": "code",
   "execution_count": null,
   "metadata": {},
   "outputs": [],
   "source": [
    "# import data with numpy\n",
    "data = np.loadtxt('data/lab01_data1.txt', delimiter=',')\n",
    "#print(data[:10,:])"
   ]
  },
  {
   "cell_type": "markdown",
   "metadata": {
    "collapsed": true
   },
   "source": [
    "### Q1: What is the number $n$ of training data, and the dimension $d$ of each data?\n",
    "\n",
    "☐ $n$=47, $d$=47 <br>\n",
    "☐ $n$=2, $d$=47 <br>\n",
    "☐ $n$=47, $d$=2 <br>\n",
    "☐ $n$=2, $d$=2 "
   ]
  },
  {
   "cell_type": "code",
   "execution_count": null,
   "metadata": {
    "collapsed": true
   },
   "outputs": [],
   "source": [
    "#YOUR CODE HERE\n"
   ]
  },
  {
   "cell_type": "markdown",
   "metadata": {},
   "source": [
    "### Q2: What is the value of the predictive linear function $f_w(x)$ for $x=0.2$ with $w_0=0.2, w_1=-0.4$?\n",
    "\n",
    "☐ $f$ = 0.24<br>\n",
    "☐ $f$ = 0.06<br>\n",
    "☐ $f$ = 0.48<br>\n",
    "☐ $f$ = 0.12\n"
   ]
  },
  {
   "cell_type": "code",
   "execution_count": null,
   "metadata": {
    "collapsed": true
   },
   "outputs": [],
   "source": [
    "#YOUR CODE HERE\n"
   ]
  },
  {
   "cell_type": "markdown",
   "metadata": {},
   "source": [
    "### Q3: What is the value of the mean square error (MSE) regression loss function $L(w)$ for $w_0=0.2, w_1=-0.4$?\n",
    "\n",
    "☐ $L$ = 0.345<br>\n",
    "☐ $L$ = 0.165<br>\n",
    "☐ $L$ = 0.273<br>\n",
    "☐ $L$ = 0.657"
   ]
  },
  {
   "cell_type": "code",
   "execution_count": null,
   "metadata": {
    "collapsed": true
   },
   "outputs": [],
   "source": [
    "#YOUR CODE HERE\n"
   ]
  },
  {
   "cell_type": "markdown",
   "metadata": {},
   "source": [
    "### Q4: What is the value of the gradient of the MSE regression loss function $\\frac{\\partial}{\\partial w} L(w)$ for $w_0=0.2, w_1=-0.4$?\n",
    "\n",
    "☐ $\\frac{\\partial}{\\partial w} L$ = [-0.43,0.49]<br>\n",
    "☐ $\\frac{\\partial}{\\partial w} L$ = [-0.93,-0.49]<br>\n",
    "☐ $\\frac{\\partial}{\\partial w} L$ = [-0.27,-0.21]<br>\n",
    "☐ $\\frac{\\partial}{\\partial w} L$ = [-0.61,0.87]"
   ]
  },
  {
   "cell_type": "code",
   "execution_count": null,
   "metadata": {
    "collapsed": true
   },
   "outputs": [],
   "source": [
    "#YOUR CODE HERE\n"
   ]
  },
  {
   "cell_type": "markdown",
   "metadata": {},
   "source": [
    "### Q5: What is the value of the MSE regression loss function $L(w)$ after $200$ gradient descent iterations starting at $w_0=0.2, w_1=-0.4$ and selecting a learning rate $\\tau=0.1$?\n",
    "\n",
    "☐ $L$ = 0.013<br>\n",
    "☐ $L$ = 0.023<br>\n",
    "☐ $L$ = 0.008<br>\n",
    "☐ $L$ = 0.045"
   ]
  },
  {
   "cell_type": "code",
   "execution_count": null,
   "metadata": {
    "collapsed": true
   },
   "outputs": [],
   "source": [
    "#YOUR CODE HERE\n"
   ]
  },
  {
   "cell_type": "markdown",
   "metadata": {},
   "source": [
    "### Q6: What is the value of the MSE regression loss function $L(w)$ computed with scikit-learn?\n",
    "\n",
    "☐ $L$ = 0.004<br>\n",
    "☐ $L$ = 0.006<br>\n",
    "☐ $L$ = 0.008<br>\n",
    "☐ $L$ = 0.013"
   ]
  },
  {
   "cell_type": "code",
   "execution_count": null,
   "metadata": {
    "collapsed": true
   },
   "outputs": [],
   "source": [
    "#YOUR CODE HERE\n"
   ]
  },
  {
   "cell_type": "markdown",
   "metadata": {},
   "source": [
    "### Q7: What is the value of the predictive linear function $f_w(x)$ for $x=0.2$ with the parameters $w_0,w_1$ computed with scikit-learn?\n",
    "\n",
    "☐ $f$ = 0.42<br>\n",
    "☐ $f$ = 0.11<br>\n",
    "☐ $f$ = 0.27<br>\n",
    "☐ $f$ = 0.34"
   ]
  },
  {
   "cell_type": "code",
   "execution_count": null,
   "metadata": {
    "collapsed": true
   },
   "outputs": [],
   "source": [
    "#YOUR CODE HERE\n"
   ]
  },
  {
   "cell_type": "markdown",
   "metadata": {
    "collapsed": true
   },
   "source": [
    "# Problem 2: Supervised regression with two features\n",
    "<hr>\n",
    "The data features are $x_{(1)},x_{(2)}$ and the data label/target is $y$.<br>"
   ]
  },
  {
   "cell_type": "code",
   "execution_count": null,
   "metadata": {},
   "outputs": [],
   "source": [
    "# import data with numpy\n",
    "data = np.loadtxt('data/lab01_data2.txt', delimiter=',')\n",
    "#print(data[:10,:])"
   ]
  },
  {
   "cell_type": "markdown",
   "metadata": {},
   "source": [
    "### Q8: What is the value of the predictive linear function $f_w(x)$ for $x_{(1)}=0.2,x_{(2)}=0.6$ with $w_0=0.2, w_1=-0.4, w_2=0.1$?\n",
    "\n",
    "☐ $f$ = 0.18<br>\n",
    "☐ $f$ = 0.22<br>\n",
    "☐ $f$ = 0.35<br>\n",
    "☐ $f$ = 0.56"
   ]
  },
  {
   "cell_type": "code",
   "execution_count": null,
   "metadata": {
    "collapsed": true
   },
   "outputs": [],
   "source": [
    "#YOUR CODE HERE\n"
   ]
  },
  {
   "cell_type": "markdown",
   "metadata": {},
   "source": [
    "### Q9: What is the value of the MSE regression loss function $L(w)$ after $200$ gradient descent iterations starting at $w_0=0.2, w_1=-0.4, w_2=0.1$ and selecting a learning rate $\\tau=0.1$?\n",
    "\n",
    "☐ $L$ = 0.023<br>\n",
    "☐ $L$ = 0.029<br>\n",
    "☐ $L$ = 0.014<br>\n",
    "☐ $L$ = 0.010"
   ]
  },
  {
   "cell_type": "code",
   "execution_count": null,
   "metadata": {
    "collapsed": true
   },
   "outputs": [],
   "source": [
    "#YOUR CODE HERE\n"
   ]
  },
  {
   "cell_type": "markdown",
   "metadata": {},
   "source": [
    "# Problem 3: Supervised regression with two features and the MAE loss\n",
    "<hr>\n",
    "The data features are $x_{(1)},x_{(2)}$ and the data label/target is $y$.<br>\n",
    "\n",
    "We consider a new loss defined as\n",
    "$$\n",
    "L(w)=\\frac{1}{n} \\sum_{i=1}^n \\ \\big| \\ f_w(x_i) – y_i \\ \\big|\n",
    "$$\n",
    "It is called the mean absolute error (MAE) loss, a.k.a. L1 loss.\n"
   ]
  },
  {
   "cell_type": "markdown",
   "metadata": {},
   "source": [
    "### Q10: What is the value of the MAE regression loss function $L(w)$ after $200$ gradient descent iterations starting at $w_0=0.2, w_1=-0.4, w_2=0.1$ and selecting a learning rate $\\tau=0.1$?\n",
    "\n",
    "☐ $L$ = 0.014 <br>\n",
    "☐ $L$ = 0.038<br>\n",
    "☐ $L$ = 0.051<br>\n",
    "☐ $L$ = 0.074"
   ]
  },
  {
   "cell_type": "code",
   "execution_count": null,
   "metadata": {
    "collapsed": true
   },
   "outputs": [],
   "source": [
    "#YOUR CODE HERE\n"
   ]
  },
  {
   "cell_type": "code",
   "execution_count": null,
   "metadata": {
    "collapsed": true
   },
   "outputs": [],
   "source": []
  }
 ],
 "metadata": {
  "kernelspec": {
   "display_name": "Python 3",
   "language": "python",
   "name": "python3"
  },
  "language_info": {
   "codemirror_mode": {
    "name": "ipython",
    "version": 3
   },
   "file_extension": ".py",
   "mimetype": "text/x-python",
   "name": "python",
   "nbconvert_exporter": "python",
   "pygments_lexer": "ipython3",
   "version": "3.6.4"
  }
 },
 "nbformat": 4,
 "nbformat_minor": 1
}
